{
    "cells": [
        {
            "cell_type": "markdown",
            "metadata": {
                "collapsed": true
            },
            "source": "# Explore and cluster the neighborhoods in Toronto."
        },
        {
            "cell_type": "code",
            "execution_count": 1,
            "metadata": {},
            "outputs": [],
            "source": "import pandas as pd"
        },
        {
            "cell_type": "markdown",
            "metadata": {},
            "source": "# Download data"
        },
        {
            "cell_type": "code",
            "execution_count": 2,
            "metadata": {},
            "outputs": [
                {
                    "name": "stdout",
                    "output_type": "stream",
                    "text": "3\n"
                }
            ],
            "source": "url = 'https://en.wikipedia.org/wiki/List_of_postal_codes_of_Canada:_M'\ndfs = pd.read_html(url)\n\nprint(len(dfs))"
        },
        {
            "cell_type": "code",
            "execution_count": 3,
            "metadata": {
                "scrolled": true
            },
            "outputs": [
                {
                    "name": "stdout",
                    "output_type": "stream",
                    "text": "    Postal Code           Borough  \\\n0           M1A      Not assigned   \n1           M2A      Not assigned   \n2           M3A        North York   \n3           M4A        North York   \n4           M5A  Downtown Toronto   \n..          ...               ...   \n175         M5Z      Not assigned   \n176         M6Z      Not assigned   \n177         M7Z      Not assigned   \n178         M8Z         Etobicoke   \n179         M9Z      Not assigned   \n\n                                         Neighbourhood  \n0                                         Not assigned  \n1                                         Not assigned  \n2                                            Parkwoods  \n3                                     Victoria Village  \n4                            Regent Park, Harbourfront  \n..                                                 ...  \n175                                       Not assigned  \n176                                       Not assigned  \n177                                       Not assigned  \n178  Mimico NW, The Queensway West, South of Bloor,...  \n179                                       Not assigned  \n\n[180 rows x 3 columns]\n"
                }
            ],
            "source": "print(dfs[0])"
        },
        {
            "cell_type": "markdown",
            "metadata": {},
            "source": "# Convert to datafram"
        },
        {
            "cell_type": "code",
            "execution_count": 4,
            "metadata": {},
            "outputs": [
                {
                    "data": {
                        "text/html": "<div>\n<style scoped>\n    .dataframe tbody tr th:only-of-type {\n        vertical-align: middle;\n    }\n\n    .dataframe tbody tr th {\n        vertical-align: top;\n    }\n\n    .dataframe thead th {\n        text-align: right;\n    }\n</style>\n<table border=\"1\" class=\"dataframe\">\n  <thead>\n    <tr style=\"text-align: right;\">\n      <th></th>\n      <th>Postal Code</th>\n      <th>Borough</th>\n      <th>Neighbourhood</th>\n    </tr>\n  </thead>\n  <tbody>\n    <tr>\n      <th>0</th>\n      <td>M1A</td>\n      <td>Not assigned</td>\n      <td>Not assigned</td>\n    </tr>\n    <tr>\n      <th>1</th>\n      <td>M2A</td>\n      <td>Not assigned</td>\n      <td>Not assigned</td>\n    </tr>\n    <tr>\n      <th>2</th>\n      <td>M3A</td>\n      <td>North York</td>\n      <td>Parkwoods</td>\n    </tr>\n    <tr>\n      <th>3</th>\n      <td>M4A</td>\n      <td>North York</td>\n      <td>Victoria Village</td>\n    </tr>\n    <tr>\n      <th>4</th>\n      <td>M5A</td>\n      <td>Downtown Toronto</td>\n      <td>Regent Park, Harbourfront</td>\n    </tr>\n  </tbody>\n</table>\n</div>",
                        "text/plain": "  Postal Code           Borough              Neighbourhood\n0         M1A      Not assigned               Not assigned\n1         M2A      Not assigned               Not assigned\n2         M3A        North York                  Parkwoods\n3         M4A        North York           Victoria Village\n4         M5A  Downtown Toronto  Regent Park, Harbourfront"
                    },
                    "execution_count": 4,
                    "metadata": {},
                    "output_type": "execute_result"
                }
            ],
            "source": "dfs = pd.read_html(url)                                                                                                         \ndf = dfs[0]\ndataframe = df[['Postal Code','Borough','Neighbourhood']]\ndf.head()"
        },
        {
            "cell_type": "code",
            "execution_count": 5,
            "metadata": {},
            "outputs": [
                {
                    "data": {
                        "text/html": "<div>\n<style scoped>\n    .dataframe tbody tr th:only-of-type {\n        vertical-align: middle;\n    }\n\n    .dataframe tbody tr th {\n        vertical-align: top;\n    }\n\n    .dataframe thead th {\n        text-align: right;\n    }\n</style>\n<table border=\"1\" class=\"dataframe\">\n  <thead>\n    <tr style=\"text-align: right;\">\n      <th></th>\n      <th>Postal Code</th>\n      <th>Borough</th>\n      <th>Neighbourhood</th>\n    </tr>\n  </thead>\n  <tbody>\n    <tr>\n      <th>2</th>\n      <td>M3A</td>\n      <td>North York</td>\n      <td>Parkwoods</td>\n    </tr>\n    <tr>\n      <th>3</th>\n      <td>M4A</td>\n      <td>North York</td>\n      <td>Victoria Village</td>\n    </tr>\n    <tr>\n      <th>4</th>\n      <td>M5A</td>\n      <td>Downtown Toronto</td>\n      <td>Regent Park, Harbourfront</td>\n    </tr>\n    <tr>\n      <th>5</th>\n      <td>M6A</td>\n      <td>North York</td>\n      <td>Lawrence Manor, Lawrence Heights</td>\n    </tr>\n    <tr>\n      <th>6</th>\n      <td>M7A</td>\n      <td>Downtown Toronto</td>\n      <td>Queen's Park, Ontario Provincial Government</td>\n    </tr>\n    <tr>\n      <th>8</th>\n      <td>M9A</td>\n      <td>Etobicoke</td>\n      <td>Islington Avenue, Humber Valley Village</td>\n    </tr>\n    <tr>\n      <th>9</th>\n      <td>M1B</td>\n      <td>Scarborough</td>\n      <td>Malvern, Rouge</td>\n    </tr>\n    <tr>\n      <th>11</th>\n      <td>M3B</td>\n      <td>North York</td>\n      <td>Don Mills</td>\n    </tr>\n    <tr>\n      <th>12</th>\n      <td>M4B</td>\n      <td>East York</td>\n      <td>Parkview Hill, Woodbine Gardens</td>\n    </tr>\n    <tr>\n      <th>13</th>\n      <td>M5B</td>\n      <td>Downtown Toronto</td>\n      <td>Garden District, Ryerson</td>\n    </tr>\n  </tbody>\n</table>\n</div>",
                        "text/plain": "   Postal Code           Borough                                Neighbourhood\n2          M3A        North York                                    Parkwoods\n3          M4A        North York                             Victoria Village\n4          M5A  Downtown Toronto                    Regent Park, Harbourfront\n5          M6A        North York             Lawrence Manor, Lawrence Heights\n6          M7A  Downtown Toronto  Queen's Park, Ontario Provincial Government\n8          M9A         Etobicoke      Islington Avenue, Humber Valley Village\n9          M1B       Scarborough                               Malvern, Rouge\n11         M3B        North York                                    Don Mills\n12         M4B         East York              Parkview Hill, Woodbine Gardens\n13         M5B  Downtown Toronto                     Garden District, Ryerson"
                    },
                    "execution_count": 5,
                    "metadata": {},
                    "output_type": "execute_result"
                }
            ],
            "source": "df=df[df.Borough != 'Not assigned']\ndf.head(10)"
        },
        {
            "cell_type": "code",
            "execution_count": 6,
            "metadata": {},
            "outputs": [
                {
                    "data": {
                        "text/plain": "(103, 3)"
                    },
                    "execution_count": 6,
                    "metadata": {},
                    "output_type": "execute_result"
                }
            ],
            "source": "df.shape"
        },
        {
            "cell_type": "markdown",
            "metadata": {},
            "source": "# Add Latitude and Longitude to the dataframe"
        },
        {
            "cell_type": "code",
            "execution_count": 7,
            "metadata": {},
            "outputs": [
                {
                    "name": "stdout",
                    "output_type": "stream",
                    "text": "Collecting geocoder\n  Downloading geocoder-1.38.1-py2.py3-none-any.whl (98 kB)\n\u001b[K     |\u2588\u2588\u2588\u2588\u2588\u2588\u2588\u2588\u2588\u2588\u2588\u2588\u2588\u2588\u2588\u2588\u2588\u2588\u2588\u2588\u2588\u2588\u2588\u2588\u2588\u2588\u2588\u2588\u2588\u2588\u2588\u2588| 98 kB 9.1 MB/s  eta 0:00:01\n\u001b[?25hRequirement already satisfied: six in /opt/conda/envs/Python-3.7-main/lib/python3.7/site-packages (from geocoder) (1.15.0)\nRequirement already satisfied: click in /opt/conda/envs/Python-3.7-main/lib/python3.7/site-packages (from geocoder) (7.1.2)\nRequirement already satisfied: requests in /opt/conda/envs/Python-3.7-main/lib/python3.7/site-packages (from geocoder) (2.24.0)\nCollecting ratelim\n  Downloading ratelim-0.1.6-py2.py3-none-any.whl (4.0 kB)\nRequirement already satisfied: future in /opt/conda/envs/Python-3.7-main/lib/python3.7/site-packages (from geocoder) (0.18.2)\nRequirement already satisfied: chardet<4,>=3.0.2 in /opt/conda/envs/Python-3.7-main/lib/python3.7/site-packages (from requests->geocoder) (3.0.4)\nRequirement already satisfied: certifi>=2017.4.17 in /opt/conda/envs/Python-3.7-main/lib/python3.7/site-packages (from requests->geocoder) (2020.12.5)\nRequirement already satisfied: idna<3,>=2.5 in /opt/conda/envs/Python-3.7-main/lib/python3.7/site-packages (from requests->geocoder) (2.9)\nRequirement already satisfied: urllib3!=1.25.0,!=1.25.1,<1.26,>=1.21.1 in /opt/conda/envs/Python-3.7-main/lib/python3.7/site-packages (from requests->geocoder) (1.25.9)\nRequirement already satisfied: decorator in /opt/conda/envs/Python-3.7-main/lib/python3.7/site-packages (from ratelim->geocoder) (4.4.2)\nInstalling collected packages: ratelim, geocoder\nSuccessfully installed geocoder-1.38.1 ratelim-0.1.6\n"
                }
            ],
            "source": "!pip3 install geocoder"
        },
        {
            "cell_type": "code",
            "execution_count": 8,
            "metadata": {},
            "outputs": [],
            "source": "import geocoder"
        },
        {
            "cell_type": "code",
            "execution_count": 9,
            "metadata": {
                "scrolled": true
            },
            "outputs": [
                {
                    "name": "stdout",
                    "output_type": "stream",
                    "text": "M3A [43.75245000000007, -79.32990999999998]\nM4A [43.73057000000006, -79.31305999999995]\nM5A [43.65512000000007, -79.36263999999994]\nM6A [43.72327000000007, -79.45041999999995]\nM7A [43.66253000000006, -79.39187999999996]\nM9A [43.662630000000036, -79.52830999999998]\nM1B [43.811390000000074, -79.19661999999994]\nM3B [43.74923000000007, -79.36185999999998]\nM4B [43.70718000000005, -79.31191999999999]\nM5B [43.65739000000008, -79.37803999999994]\nM6B [43.70687000000004, -79.44811999999996]\nM9B [43.65034000000003, -79.55361999999997]\nM1C [43.78574000000003, -79.15874999999994]\nM3C [43.72168000000005, -79.34351999999996]\nM4C [43.68970000000007, -79.30681999999996]\nM5C [43.65215000000006, -79.37586999999996]\nM6C [43.69211000000007, -79.43035999999995]\nM9C [43.64857000000006, -79.57824999999997]\nM1E [43.765750000000025, -79.17469999999997]\nM4E [43.67709000000008, -79.29546999999997]\nM5E [43.64536000000004, -79.37305999999995]\nM6E [43.68784000000005, -79.45045999999996]\nM1G [43.76812000000007, -79.21760999999998]\nM4G [43.709020000000066, -79.36348999999996]\nM5G [43.65609000000006, -79.38492999999994]\nM6G [43.668690000000026, -79.42070999999999]\nM1H [43.76944000000003, -79.23891999999995]\nM2H [43.80225000000007, -79.35557999999997]\nM3H [43.75788000000006, -79.44846999999999]\nM4H [43.70142000000004, -79.34904999999998]\nM5H [43.64970000000005, -79.38257999999996]\nM6H [43.665050000000065, -79.43890999999996]\nM1J [43.74446000000006, -79.23116999999996]\nM2J [43.780970000000025, -79.34780999999998]\nM3J [43.76476000000008, -79.48797999999994]\nM4J [43.68811000000005, -79.33417999999995]\nM5J [43.64285000000007, -79.38075999999995]\nM6J [43.64848000000006, -79.41773999999998]\nM1K [43.725820000000056, -79.26460999999995]\nM2K [43.781120000000044, -79.38059999999996]\nM3K [43.73384000000004, -79.46827999999994]\nM4K [43.68375000000003, -79.35511999999994]\nM5K [43.64710000000008, -79.38152999999994]\nM6K [43.639410000000055, -79.42675999999994]\nM1L [43.71289000000007, -79.28505999999999]\nM2L [43.756980000000055, -79.38059999999996]\nM3L [43.720710000000054, -79.51700999999997]\nM4L [43.667970000000025, -79.31466999999998]\nM5L [43.64840000000004, -79.37913999999995]\nM6L [43.71381000000008, -79.48873999999995]\nM9L [43.75948000000005, -79.55706999999995]\nM1M [43.72360000000003, -79.23495999999994]\nM2M [43.79182000000003, -79.41371999999996]\nM3M [43.73224000000005, -79.50177999999994]\nM4M [43.66213000000005, -79.33496999999994]\nM5M [43.73545000000007, -79.41915999999998]\nM6M [43.695170000000076, -79.48396999999994]\nM9M [43.733670000000075, -79.53768999999994]\nM1N [43.695100000000025, -79.26465999999994]\nM2N [43.76774000000006, -79.40727999999996]\nM3N [43.75478000000004, -79.51958999999994]\nM4N [43.72843000000006, -79.38712999999996]\nM5N [43.71208000000007, -79.41847999999999]\nM6N [43.67646000000008, -79.48271999999997]\nM9N [43.705070000000035, -79.51803999999998]\nM1P [43.75998000000004, -79.26939999999996]\nM2P [43.747780000000034, -79.40032999999994]\nM4P [43.71276000000006, -79.38850999999994]\nM5P [43.69479000000007, -79.41439999999994]\nM6P [43.659730000000025, -79.46280999999993]\nM9P [43.696300000000065, -79.52925999999997]\nM1R [43.75075000000004, -79.30053999999996]\nM2R [43.77989000000008, -79.44677999999999]\nM4R [43.71458000000007, -79.40667999999994]\nM5R [43.674840000000074, -79.40451999999993]\nM6R [43.64777000000004, -79.44988999999998]\nM7R [43.648690000000045, -79.38543999999996]\nM9R [43.68681000000004, -79.55727999999993]\nM1S [43.794520000000034, -79.26707999999996]\nM4S [43.703400000000045, -79.38658999999996]\nM5S [43.663110000000074, -79.40179999999998]\nM6S [43.649820000000034, -79.47547999999995]\nM1T [43.784910000000025, -79.29721999999998]\nM4T [43.690480000000036, -79.38317999999998]\nM5T [43.65351000000004, -79.39721999999995]\nM1V [43.817810000000065, -79.28043999999994]\nM4V [43.68568000000005, -79.40236999999996]\nM5V [43.640820000000076, -79.39817999999997]\nM8V [43.60987000000006, -79.49808999999993]\nM9V [43.744530000000054, -79.58623999999998]\nM1W [43.80079000000006, -79.32161999999994]\nM4W [43.68190000000004, -79.37828999999994]\nM5W [43.648690000000045, -79.38543999999996]\nM8W [43.601240000000075, -79.53878999999995]\nM9W [43.71174000000008, -79.57940999999994]\nM1X [43.83412000000004, -79.21667999999994]\nM4X [43.667880000000025, -79.36648999999994]\nM5X [43.64828000000006, -79.38145999999995]\nM8X [43.65319000000005, -79.51112999999998]\nM4Y [43.66659000000004, -79.38132999999993]\nM7Y [43.648690000000045, -79.38543999999996]\nM8Y [43.632780000000025, -79.48944999999998]\nM8Z [43.62513000000007, -79.52680999999995]\n"
                }
            ],
            "source": "latitude=[]\nlongitude=[]\nfor code in df['Postal Code']:\n    g = geocoder.arcgis('{}, Toronto, Ontario'.format(code))\n    print(code, g.latlng)\n    while (g.latlng is None):\n        g = geocoder.arcgis('{}, Toronto, Ontario'.format(code))\n        print(code, g.latlng)\n    latlng = g.latlng\n    latitude.append(latlng[0])\n    longitude.append(latlng[1])"
        },
        {
            "cell_type": "markdown",
            "metadata": {},
            "source": "# Explore and Cluster Toronto"
        },
        {
            "cell_type": "code",
            "execution_count": 11,
            "metadata": {},
            "outputs": [
                {
                    "name": "stdout",
                    "output_type": "stream",
                    "text": "Collecting folium\n  Downloading folium-0.11.0-py2.py3-none-any.whl (93 kB)\n\u001b[K     |\u2588\u2588\u2588\u2588\u2588\u2588\u2588\u2588\u2588\u2588\u2588\u2588\u2588\u2588\u2588\u2588\u2588\u2588\u2588\u2588\u2588\u2588\u2588\u2588\u2588\u2588\u2588\u2588\u2588\u2588\u2588\u2588| 93 kB 4.0 MB/s  eta 0:00:01\n\u001b[?25hCollecting branca>=0.3.0\n  Downloading branca-0.4.1-py3-none-any.whl (24 kB)\nRequirement already satisfied: numpy in /opt/conda/envs/Python-3.7-main/lib/python3.7/site-packages (from folium) (1.18.5)\nRequirement already satisfied: requests in /opt/conda/envs/Python-3.7-main/lib/python3.7/site-packages (from folium) (2.24.0)\nRequirement already satisfied: jinja2>=2.9 in /opt/conda/envs/Python-3.7-main/lib/python3.7/site-packages (from folium) (2.11.2)\nRequirement already satisfied: certifi>=2017.4.17 in /opt/conda/envs/Python-3.7-main/lib/python3.7/site-packages (from requests->folium) (2020.12.5)\nRequirement already satisfied: chardet<4,>=3.0.2 in /opt/conda/envs/Python-3.7-main/lib/python3.7/site-packages (from requests->folium) (3.0.4)\nRequirement already satisfied: urllib3!=1.25.0,!=1.25.1,<1.26,>=1.21.1 in /opt/conda/envs/Python-3.7-main/lib/python3.7/site-packages (from requests->folium) (1.25.9)\nRequirement already satisfied: idna<3,>=2.5 in /opt/conda/envs/Python-3.7-main/lib/python3.7/site-packages (from requests->folium) (2.9)\nRequirement already satisfied: MarkupSafe>=0.23 in /opt/conda/envs/Python-3.7-main/lib/python3.7/site-packages (from jinja2>=2.9->folium) (1.1.1)\nInstalling collected packages: branca, folium\nSuccessfully installed branca-0.4.1 folium-0.11.0\n"
                }
            ],
            "source": "!pip3 install folium"
        },
        {
            "cell_type": "code",
            "execution_count": 12,
            "metadata": {},
            "outputs": [],
            "source": "import folium"
        },
        {
            "cell_type": "code",
            "execution_count": 13,
            "metadata": {},
            "outputs": [
                {
                    "data": {
                        "text/html": "<div>\n<style scoped>\n    .dataframe tbody tr th:only-of-type {\n        vertical-align: middle;\n    }\n\n    .dataframe tbody tr th {\n        vertical-align: top;\n    }\n\n    .dataframe thead th {\n        text-align: right;\n    }\n</style>\n<table border=\"1\" class=\"dataframe\">\n  <thead>\n    <tr style=\"text-align: right;\">\n      <th></th>\n      <th>Postal Code</th>\n      <th>Borough</th>\n      <th>Neighbourhood</th>\n    </tr>\n  </thead>\n  <tbody>\n    <tr>\n      <th>4</th>\n      <td>M5A</td>\n      <td>Downtown Toronto</td>\n      <td>Regent Park, Harbourfront</td>\n    </tr>\n    <tr>\n      <th>6</th>\n      <td>M7A</td>\n      <td>Downtown Toronto</td>\n      <td>Queen's Park, Ontario Provincial Government</td>\n    </tr>\n    <tr>\n      <th>13</th>\n      <td>M5B</td>\n      <td>Downtown Toronto</td>\n      <td>Garden District, Ryerson</td>\n    </tr>\n    <tr>\n      <th>22</th>\n      <td>M5C</td>\n      <td>Downtown Toronto</td>\n      <td>St. James Town</td>\n    </tr>\n    <tr>\n      <th>30</th>\n      <td>M4E</td>\n      <td>East Toronto</td>\n      <td>The Beaches</td>\n    </tr>\n    <tr>\n      <th>31</th>\n      <td>M5E</td>\n      <td>Downtown Toronto</td>\n      <td>Berczy Park</td>\n    </tr>\n    <tr>\n      <th>40</th>\n      <td>M5G</td>\n      <td>Downtown Toronto</td>\n      <td>Central Bay Street</td>\n    </tr>\n    <tr>\n      <th>41</th>\n      <td>M6G</td>\n      <td>Downtown Toronto</td>\n      <td>Christie</td>\n    </tr>\n    <tr>\n      <th>49</th>\n      <td>M5H</td>\n      <td>Downtown Toronto</td>\n      <td>Richmond, Adelaide, King</td>\n    </tr>\n    <tr>\n      <th>50</th>\n      <td>M6H</td>\n      <td>West Toronto</td>\n      <td>Dufferin, Dovercourt Village</td>\n    </tr>\n    <tr>\n      <th>58</th>\n      <td>M5J</td>\n      <td>Downtown Toronto</td>\n      <td>Harbourfront East, Union Station, Toronto Islands</td>\n    </tr>\n    <tr>\n      <th>59</th>\n      <td>M6J</td>\n      <td>West Toronto</td>\n      <td>Little Portugal, Trinity</td>\n    </tr>\n    <tr>\n      <th>66</th>\n      <td>M4K</td>\n      <td>East Toronto</td>\n      <td>The Danforth West, Riverdale</td>\n    </tr>\n    <tr>\n      <th>67</th>\n      <td>M5K</td>\n      <td>Downtown Toronto</td>\n      <td>Toronto Dominion Centre, Design Exchange</td>\n    </tr>\n    <tr>\n      <th>68</th>\n      <td>M6K</td>\n      <td>West Toronto</td>\n      <td>Brockton, Parkdale Village, Exhibition Place</td>\n    </tr>\n    <tr>\n      <th>75</th>\n      <td>M4L</td>\n      <td>East Toronto</td>\n      <td>India Bazaar, The Beaches West</td>\n    </tr>\n    <tr>\n      <th>76</th>\n      <td>M5L</td>\n      <td>Downtown Toronto</td>\n      <td>Commerce Court, Victoria Hotel</td>\n    </tr>\n    <tr>\n      <th>84</th>\n      <td>M4M</td>\n      <td>East Toronto</td>\n      <td>Studio District</td>\n    </tr>\n    <tr>\n      <th>93</th>\n      <td>M4N</td>\n      <td>Central Toronto</td>\n      <td>Lawrence Park</td>\n    </tr>\n    <tr>\n      <th>94</th>\n      <td>M5N</td>\n      <td>Central Toronto</td>\n      <td>Roselawn</td>\n    </tr>\n    <tr>\n      <th>102</th>\n      <td>M4P</td>\n      <td>Central Toronto</td>\n      <td>Davisville North</td>\n    </tr>\n    <tr>\n      <th>103</th>\n      <td>M5P</td>\n      <td>Central Toronto</td>\n      <td>Forest Hill North &amp; West, Forest Hill Road Park</td>\n    </tr>\n    <tr>\n      <th>104</th>\n      <td>M6P</td>\n      <td>West Toronto</td>\n      <td>High Park, The Junction South</td>\n    </tr>\n    <tr>\n      <th>111</th>\n      <td>M4R</td>\n      <td>Central Toronto</td>\n      <td>North Toronto West, Lawrence Park</td>\n    </tr>\n    <tr>\n      <th>112</th>\n      <td>M5R</td>\n      <td>Central Toronto</td>\n      <td>The Annex, North Midtown, Yorkville</td>\n    </tr>\n    <tr>\n      <th>113</th>\n      <td>M6R</td>\n      <td>West Toronto</td>\n      <td>Parkdale, Roncesvalles</td>\n    </tr>\n    <tr>\n      <th>120</th>\n      <td>M4S</td>\n      <td>Central Toronto</td>\n      <td>Davisville</td>\n    </tr>\n    <tr>\n      <th>121</th>\n      <td>M5S</td>\n      <td>Downtown Toronto</td>\n      <td>University of Toronto, Harbord</td>\n    </tr>\n    <tr>\n      <th>122</th>\n      <td>M6S</td>\n      <td>West Toronto</td>\n      <td>Runnymede, Swansea</td>\n    </tr>\n    <tr>\n      <th>129</th>\n      <td>M4T</td>\n      <td>Central Toronto</td>\n      <td>Moore Park, Summerhill East</td>\n    </tr>\n    <tr>\n      <th>130</th>\n      <td>M5T</td>\n      <td>Downtown Toronto</td>\n      <td>Kensington Market, Chinatown, Grange Park</td>\n    </tr>\n    <tr>\n      <th>138</th>\n      <td>M4V</td>\n      <td>Central Toronto</td>\n      <td>Summerhill West, Rathnelly, South Hill, Forest...</td>\n    </tr>\n    <tr>\n      <th>139</th>\n      <td>M5V</td>\n      <td>Downtown Toronto</td>\n      <td>CN Tower, King and Spadina, Railway Lands, Har...</td>\n    </tr>\n    <tr>\n      <th>147</th>\n      <td>M4W</td>\n      <td>Downtown Toronto</td>\n      <td>Rosedale</td>\n    </tr>\n    <tr>\n      <th>148</th>\n      <td>M5W</td>\n      <td>Downtown Toronto</td>\n      <td>Stn A PO Boxes</td>\n    </tr>\n    <tr>\n      <th>156</th>\n      <td>M4X</td>\n      <td>Downtown Toronto</td>\n      <td>St. James Town, Cabbagetown</td>\n    </tr>\n    <tr>\n      <th>157</th>\n      <td>M5X</td>\n      <td>Downtown Toronto</td>\n      <td>First Canadian Place, Underground city</td>\n    </tr>\n    <tr>\n      <th>165</th>\n      <td>M4Y</td>\n      <td>Downtown Toronto</td>\n      <td>Church and Wellesley</td>\n    </tr>\n    <tr>\n      <th>168</th>\n      <td>M7Y</td>\n      <td>East Toronto</td>\n      <td>Business reply mail Processing Centre, South C...</td>\n    </tr>\n  </tbody>\n</table>\n</div>",
                        "text/plain": "    Postal Code           Borough  \\\n4           M5A  Downtown Toronto   \n6           M7A  Downtown Toronto   \n13          M5B  Downtown Toronto   \n22          M5C  Downtown Toronto   \n30          M4E      East Toronto   \n31          M5E  Downtown Toronto   \n40          M5G  Downtown Toronto   \n41          M6G  Downtown Toronto   \n49          M5H  Downtown Toronto   \n50          M6H      West Toronto   \n58          M5J  Downtown Toronto   \n59          M6J      West Toronto   \n66          M4K      East Toronto   \n67          M5K  Downtown Toronto   \n68          M6K      West Toronto   \n75          M4L      East Toronto   \n76          M5L  Downtown Toronto   \n84          M4M      East Toronto   \n93          M4N   Central Toronto   \n94          M5N   Central Toronto   \n102         M4P   Central Toronto   \n103         M5P   Central Toronto   \n104         M6P      West Toronto   \n111         M4R   Central Toronto   \n112         M5R   Central Toronto   \n113         M6R      West Toronto   \n120         M4S   Central Toronto   \n121         M5S  Downtown Toronto   \n122         M6S      West Toronto   \n129         M4T   Central Toronto   \n130         M5T  Downtown Toronto   \n138         M4V   Central Toronto   \n139         M5V  Downtown Toronto   \n147         M4W  Downtown Toronto   \n148         M5W  Downtown Toronto   \n156         M4X  Downtown Toronto   \n157         M5X  Downtown Toronto   \n165         M4Y  Downtown Toronto   \n168         M7Y      East Toronto   \n\n                                         Neighbourhood  \n4                            Regent Park, Harbourfront  \n6          Queen's Park, Ontario Provincial Government  \n13                            Garden District, Ryerson  \n22                                      St. James Town  \n30                                         The Beaches  \n31                                         Berczy Park  \n40                                  Central Bay Street  \n41                                            Christie  \n49                            Richmond, Adelaide, King  \n50                        Dufferin, Dovercourt Village  \n58   Harbourfront East, Union Station, Toronto Islands  \n59                            Little Portugal, Trinity  \n66                        The Danforth West, Riverdale  \n67            Toronto Dominion Centre, Design Exchange  \n68        Brockton, Parkdale Village, Exhibition Place  \n75                      India Bazaar, The Beaches West  \n76                      Commerce Court, Victoria Hotel  \n84                                     Studio District  \n93                                       Lawrence Park  \n94                                            Roselawn  \n102                                   Davisville North  \n103    Forest Hill North & West, Forest Hill Road Park  \n104                      High Park, The Junction South  \n111                  North Toronto West, Lawrence Park  \n112                The Annex, North Midtown, Yorkville  \n113                             Parkdale, Roncesvalles  \n120                                         Davisville  \n121                     University of Toronto, Harbord  \n122                                 Runnymede, Swansea  \n129                        Moore Park, Summerhill East  \n130          Kensington Market, Chinatown, Grange Park  \n138  Summerhill West, Rathnelly, South Hill, Forest...  \n139  CN Tower, King and Spadina, Railway Lands, Har...  \n147                                           Rosedale  \n148                                     Stn A PO Boxes  \n156                        St. James Town, Cabbagetown  \n157             First Canadian Place, Underground city  \n165                               Church and Wellesley  \n168  Business reply mail Processing Centre, South C...  "
                    },
                    "execution_count": 13,
                    "metadata": {},
                    "output_type": "execute_result"
                }
            ],
            "source": "toronto_df = df[df['Borough'].str.contains('Toronto')]\ntoronto_df"
        },
        {
            "cell_type": "code",
            "execution_count": 14,
            "metadata": {},
            "outputs": [
                {
                    "data": {
                        "text/plain": "(39, 3)"
                    },
                    "execution_count": 14,
                    "metadata": {},
                    "output_type": "execute_result"
                }
            ],
            "source": "toronto_df.shape"
        },
        {
            "cell_type": "markdown",
            "metadata": {},
            "source": "# import libraries"
        },
        {
            "cell_type": "code",
            "execution_count": 15,
            "metadata": {},
            "outputs": [
                {
                    "name": "stdout",
                    "output_type": "stream",
                    "text": "Folium installed\nLibraries imported.\n"
                }
            ],
            "source": "\nimport requests # library to handle requests\nimport numpy as np # library to handle data in a vectorized manner\nimport random # library for random number generation\nimport pandas as pd \nfrom geopy.geocoders import Nominatim # module to convert an address into latitude and longitude values\nfrom pandas.io.json import json_normalize \n\n# libraries for displaying images\nfrom IPython.display import Image \nfrom IPython.core.display import HTML \n\nimport folium # plotting library\n\nprint('Folium installed')\nprint('Libraries imported.')"
        },
        {
            "cell_type": "markdown",
            "metadata": {},
            "source": "# Access Foursquare"
        },
        {
            "cell_type": "code",
            "execution_count": 16,
            "metadata": {},
            "outputs": [
                {
                    "name": "stdout",
                    "output_type": "stream",
                    "text": "Your credentails:\nCLIENT_ID: ZRMZZGCXZLQBD0HE52LWZQ1JKLTZFTQF545O0SYT213KFBOK\nCLIENT_SECRET:TULJH33RBUTZ3E4NV4LVRHC4O4JE425WUIQP2FVG41N4P04P\n"
                }
            ],
            "source": "\nCLIENT_ID = 'ZRMZZGCXZLQBD0HE52LWZQ1JKLTZFTQF545O0SYT213KFBOK' # your Foursquare ID\nCLIENT_SECRET = 'TULJH33RBUTZ3E4NV4LVRHC4O4JE425WUIQP2FVG41N4P04P' # your Foursquare Secret\nACCESS_TOKEN = 'RTHUEBRBCVGK4EZDSF051F4MTWRUMWUCAVZIAW0YORDHQLMP' # your FourSquare Access Token\nVERSION = '20180604'\nLIMIT = 30\nprint('Your credentails:')\nprint('CLIENT_ID: ' + CLIENT_ID)\nprint('CLIENT_SECRET:' + CLIENT_SECRET)"
        },
        {
            "cell_type": "markdown",
            "metadata": {},
            "source": "#  From Lawrence Park"
        },
        {
            "cell_type": "code",
            "execution_count": 17,
            "metadata": {},
            "outputs": [
                {
                    "name": "stdout",
                    "output_type": "stream",
                    "text": "43.729199 -79.4032525\n"
                }
            ],
            "source": "address = 'Lawrence Park, Toronto'\n\ngeolocator = Nominatim(user_agent=\"foursquare_agent\")\nlocation = geolocator.geocode(address)\nlatitude = location.latitude\nlongitude = location.longitude\nprint(latitude, longitude)"
        },
        {
            "cell_type": "code",
            "execution_count": 20,
            "metadata": {},
            "outputs": [
                {
                    "name": "stdout",
                    "output_type": "stream",
                    "text": "coffee Found!\n"
                }
            ],
            "source": "search_query = 'coffee'\nradius = 500\nprint(search_query + ' Found!')"
        },
        {
            "cell_type": "code",
            "execution_count": 21,
            "metadata": {},
            "outputs": [
                {
                    "data": {
                        "text/plain": "'https://api.foursquare.com/v2/venues/search?client_id=ZRMZZGCXZLQBD0HE52LWZQ1JKLTZFTQF545O0SYT213KFBOK&client_secret=TULJH33RBUTZ3E4NV4LVRHC4O4JE425WUIQP2FVG41N4P04P&ll=43.729199,-79.4032525&oauth_token=RTHUEBRBCVGK4EZDSF051F4MTWRUMWUCAVZIAW0YORDHQLMP&v=20180604&query=coffee&radius=500&limit=30'"
                    },
                    "execution_count": 21,
                    "metadata": {},
                    "output_type": "execute_result"
                }
            ],
            "source": "url = 'https://api.foursquare.com/v2/venues/search?client_id={}&client_secret={}&ll={},{}&oauth_token={}&v={}&query={}&radius={}&limit={}'.format(CLIENT_ID, CLIENT_SECRET, latitude, longitude,ACCESS_TOKEN, VERSION, search_query, radius, LIMIT)\nurl"
        },
        {
            "cell_type": "markdown",
            "metadata": {},
            "source": "# Get results"
        },
        {
            "cell_type": "code",
            "execution_count": 22,
            "metadata": {},
            "outputs": [
                {
                    "data": {
                        "text/plain": "{'meta': {'code': 200, 'requestId': '5fe1966f54a4277f8f4a1ce3'},\n 'notifications': [{'type': 'notificationTray', 'item': {'unreadCount': 0}}],\n 'response': {'venues': [{'id': '519e6c44498eda6c74ccd15b',\n    'name': 'Starbucks',\n    'location': {'address': '3050 Yonge St',\n     'crossStreet': 'at Lawrence Ave W',\n     'lat': 43.724878,\n     'lng': -79.40249,\n     'labeledLatLngs': [{'label': 'display',\n       'lat': 43.724878,\n       'lng': -79.40249}],\n     'distance': 484,\n     'postalCode': 'M4N 2K4',\n     'cc': 'CA',\n     'city': 'Toronto',\n     'state': 'ON',\n     'country': 'Canada',\n     'formattedAddress': ['3050 Yonge St (at Lawrence Ave W)',\n      'Toronto ON M4N 2K4',\n      'Canada']},\n    'categories': [{'id': '4bf58dd8d48988d1e0931735',\n      'name': 'Coffee Shop',\n      'pluralName': 'Coffee Shops',\n      'shortName': 'Coffee Shop',\n      'icon': {'prefix': 'https://ss3.4sqi.net/img/categories_v2/food/coffeeshop_',\n       'suffix': '.png'},\n      'primary': True}],\n    'referralId': 'v-1608619631',\n    'hasPerk': False}]}}"
                    },
                    "execution_count": 22,
                    "metadata": {},
                    "output_type": "execute_result"
                }
            ],
            "source": "results = requests.get(url).json()\nresults"
        },
        {
            "cell_type": "code",
            "execution_count": 23,
            "metadata": {},
            "outputs": [
                {
                    "name": "stderr",
                    "output_type": "stream",
                    "text": "/opt/conda/envs/Python-3.7-main/lib/python3.7/site-packages/ipykernel/__main__.py:2: FutureWarning: pandas.io.json.json_normalize is deprecated, use pandas.json_normalize instead\n  from ipykernel import kernelapp as app\n"
                },
                {
                    "data": {
                        "text/html": "<div>\n<style scoped>\n    .dataframe tbody tr th:only-of-type {\n        vertical-align: middle;\n    }\n\n    .dataframe tbody tr th {\n        vertical-align: top;\n    }\n\n    .dataframe thead th {\n        text-align: right;\n    }\n</style>\n<table border=\"1\" class=\"dataframe\">\n  <thead>\n    <tr style=\"text-align: right;\">\n      <th></th>\n      <th>id</th>\n      <th>name</th>\n      <th>categories</th>\n      <th>referralId</th>\n      <th>hasPerk</th>\n      <th>location.address</th>\n      <th>location.crossStreet</th>\n      <th>location.lat</th>\n      <th>location.lng</th>\n      <th>location.labeledLatLngs</th>\n      <th>location.distance</th>\n      <th>location.postalCode</th>\n      <th>location.cc</th>\n      <th>location.city</th>\n      <th>location.state</th>\n      <th>location.country</th>\n      <th>location.formattedAddress</th>\n    </tr>\n  </thead>\n  <tbody>\n    <tr>\n      <th>0</th>\n      <td>519e6c44498eda6c74ccd15b</td>\n      <td>Starbucks</td>\n      <td>[{'id': '4bf58dd8d48988d1e0931735', 'name': 'C...</td>\n      <td>v-1608619631</td>\n      <td>False</td>\n      <td>3050 Yonge St</td>\n      <td>at Lawrence Ave W</td>\n      <td>43.724878</td>\n      <td>-79.40249</td>\n      <td>[{'label': 'display', 'lat': 43.724878, 'lng':...</td>\n      <td>484</td>\n      <td>M4N 2K4</td>\n      <td>CA</td>\n      <td>Toronto</td>\n      <td>ON</td>\n      <td>Canada</td>\n      <td>[3050 Yonge St (at Lawrence Ave W), Toronto ON...</td>\n    </tr>\n  </tbody>\n</table>\n</div>",
                        "text/plain": "                         id       name  \\\n0  519e6c44498eda6c74ccd15b  Starbucks   \n\n                                          categories    referralId  hasPerk  \\\n0  [{'id': '4bf58dd8d48988d1e0931735', 'name': 'C...  v-1608619631    False   \n\n  location.address location.crossStreet  location.lat  location.lng  \\\n0    3050 Yonge St    at Lawrence Ave W     43.724878     -79.40249   \n\n                             location.labeledLatLngs  location.distance  \\\n0  [{'label': 'display', 'lat': 43.724878, 'lng':...                484   \n\n  location.postalCode location.cc location.city location.state  \\\n0             M4N 2K4          CA       Toronto             ON   \n\n  location.country                          location.formattedAddress  \n0           Canada  [3050 Yonge St (at Lawrence Ave W), Toronto ON...  "
                    },
                    "execution_count": 23,
                    "metadata": {},
                    "output_type": "execute_result"
                }
            ],
            "source": "venues = results['response']['venues']\ndataframe = json_normalize(venues)\ndataframe.head()"
        },
        {
            "cell_type": "code",
            "execution_count": null,
            "metadata": {},
            "outputs": [],
            "source": ""
        }
    ],
    "metadata": {
        "kernelspec": {
            "display_name": "Python 3.7",
            "language": "python",
            "name": "python3"
        },
        "language_info": {
            "codemirror_mode": {
                "name": "ipython",
                "version": 3
            },
            "file_extension": ".py",
            "mimetype": "text/x-python",
            "name": "python",
            "nbconvert_exporter": "python",
            "pygments_lexer": "ipython3",
            "version": "3.7.9"
        }
    },
    "nbformat": 4,
    "nbformat_minor": 1
}